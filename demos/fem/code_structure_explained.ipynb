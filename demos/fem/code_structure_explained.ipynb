{
 "cells": [
  {
   "attachments": {},
   "cell_type": "markdown",
   "metadata": {},
   "source": [
    "# This notebook will try to see how the FEM code is implemented in JAX-FEM\n",
    "- https://www.dealii.org/current/doxygen/deal.II/index.html (Overall class structure of a FE program)\n",
    "- https://www.dealii.org/current/doxygen/deal.II/step_2.html (For meshing)\n",
    "- https://www.dealii.org/current/doxygen/deal.II/step_3.html (Executing a full FE program)"
   ]
  },
  {
   "attachments": {},
   "cell_type": "markdown",
   "metadata": {},
   "source": [
    "## Step : 1 Weak formulation\n",
    "- Consider: $\\quad \\Omega = \\textnormal{Domain of the PDE}; \\Omega \\subset R^{dim}$\n",
    "        \n",
    "    - `dim` = dimension (3 for 3D problems, 2 for 2D etc.)\n",
    "        \n",
    "- We seek the solution to the following PDE:\n",
    "    - $$ F = (f(\\nabla u), \\nabla v) - (t,v) - (b,v) = 0$$\n",
    "        -  valid for all $v$\n",
    "        \n",
    "        \n",
    "    - where, u = solution field $u(x) \\in R^{vec}$,\n",
    "        - `vec` = Number of components in the solution (1D, 2D, etc.)\n",
    "        - v = Test function,\n",
    "        - (a,b) = $ \\quad \\int_\\Omega a : b \\quad d\\Omega$\n",
    "        - $\\nabla u$ = `grad_u` is the gradient of u\n",
    "        - t = Neuman B.C. value\n",
    "        - b = Body force or source term in the PDE\n",
    "\n",
    "Thus, have to solve F = 0 using finite element approximations.\n",
    "- So, we choose the basis functions ($\\phi$) (basis for representing any test function $v$) so as to approximate\n",
    "\n",
    " $$u (x) \\approx u^h (x) = \\sum_j U_j \\phi_j(x)$$"
   ]
  },
  {
   "attachments": {},
   "cell_type": "markdown",
   "metadata": {},
   "source": [
    "## Step : 2 Setting up the shape (basis) functions\n",
    "\n",
    "1.  Need a mesh\n",
    "    - mesh is just a collection of cells (with many nodes or dofs) and their connectivity\n",
    "        - Discretization of the domain $\\Omega$\n",
    "    - In the code, `gmsh` package is used for creating meshes (see `generate_mesh.py`)\n",
    "    - `meshio` package allows easy input/outputting of various mesh formats\n",
    "2. Need a reference finite element.\n",
    "    - We define the shape functions locally w.r.t the refernce cell!\n",
    "    - `basix` package for getting reference cells\n",
    "2. A mapping utility.\n",
    "    - Mapping reference cell to each physical cell in the mesh\n",
    "    - This transforms the local shape functions!\n",
    "3. Ability of enumerate each node in the mesh"
   ]
  },
  {
   "attachments": {},
   "cell_type": "markdown",
   "metadata": {},
   "source": [
    "### Step 2.1 : Mesh"
   ]
  },
  {
   "cell_type": "code",
   "execution_count": 4,
   "metadata": {},
   "outputs": [
    {
     "name": "stdout",
     "output_type": "stream",
     "text": [
      "<class 'jax_am.fem.generate_mesh.Mesh'>\n",
      "<function box_mesh at 0x7f4aa98bff40>\n"
     ]
    }
   ],
   "source": [
    "from jax_am.fem import generate_mesh\n",
    "\n",
    "# important for us\n",
    "# 1. Mesh interface class [between gmsh and JAX-FEM]\n",
    "print(generate_mesh.Mesh)\n",
    "# Has two attributes, cells and points -> denoting the cell (through it's nodes) and node coordinates\n",
    "\n",
    "# 2. Creating a cuboidal mesh [For now, only the simplest domain for TopOpt]\n",
    "print(generate_mesh.box_mesh)"
   ]
  },
  {
   "cell_type": "code",
   "execution_count": 5,
   "metadata": {},
   "outputs": [
    {
     "name": "stdout",
     "output_type": "stream",
     "text": [
      "Info    : Meshing 1D...\n",
      "Info    : [  0%] Meshing curve 1 (Extruded)\n",
      "Info    : [ 10%] Meshing curve 2 (Extruded)\n",
      "Info    : [ 20%] Meshing curve 3 (Extruded)\n",
      "Info    : [ 30%] Meshing curve 4 (Extruded)\n",
      "Info    : [ 40%] Meshing curve 7 (Extruded)\n",
      "Info    : [ 50%] Meshing curve 8 (Extruded)\n",
      "Info    : [ 50%] Meshing curve 9 (Extruded)\n",
      "Info    : [ 60%] Meshing curve 10 (Extruded)\n",
      "Info    : [ 70%] Meshing curve 12 (Extruded)\n",
      "Info    : [ 80%] Meshing curve 13 (Extruded)\n",
      "Info    : [ 90%] Meshing curve 17 (Extruded)\n",
      "Info    : [100%] Meshing curve 21 (Extruded)\n",
      "Info    : Done meshing 1D (Wall 0.000177388s, CPU 0.000153s)\n",
      "Info    : Meshing 2D...\n",
      "Info    : [  0%] Meshing surface 5 (Extruded)\n",
      "Info    : [ 20%] Meshing surface 14 (Extruded)\n",
      "Info    : [ 40%] Meshing surface 18 (Extruded)\n",
      "Info    : [ 50%] Meshing surface 22 (Extruded)\n",
      "Info    : [ 70%] Meshing surface 26 (Extruded)\n",
      "Info    : [ 90%] Meshing surface 27 (Extruded)\n",
      "Info    : Done meshing 2D (Wall 0.000602827s, CPU 0.000486s)\n",
      "Info    : Meshing 3D...\n",
      "Info    : Meshing volume 1 (Extruded)\n",
      "Info    : Done meshing 3D (Wall 0.000216642s, CPU 0.000174s)\n",
      "Info    : Optimizing mesh...\n",
      "Info    : Done optimizing mesh (Wall 1.298e-05s, CPU 1.3e-05s)\n",
      "Info    : 64 nodes 125 elements\n",
      "Info    : Writing '../data/msh/box.msh'...\n",
      "Info    : Done writing '../data/msh/box.msh'\n",
      "\n"
     ]
    }
   ],
   "source": [
    "# example code\n",
    "Lx, Ly, Lz = 1., 1, 1.\n",
    "Nx, Ny, Nz = 3, 3, 3\n",
    "data_path = \"../data/\"\n",
    "meshio_mesh = generate_mesh.box_mesh(Nx, Ny, Nz, Lx, Ly, Lz, data_path)\n",
    "jax_mesh = generate_mesh.Mesh(meshio_mesh.points, meshio_mesh.cells_dict['hexahedron'])"
   ]
  },
  {
   "cell_type": "code",
   "execution_count": 11,
   "metadata": {},
   "outputs": [
    {
     "name": "stdout",
     "output_type": "stream",
     "text": [
      "Some points (nodes) in mesh :  [[0. 0. 0.]\n",
      " [1. 0. 0.]\n",
      " [0. 1. 0.]]\n",
      "Connectivity of first cell in mesh :  [[ 0  8 32 12 24 36 56 48]]\n"
     ]
    }
   ],
   "source": [
    "print('Some points (nodes) in mesh : ',jax_mesh.points[:3,:]) # points = global coordinates\n",
    "print('Connectivity of first cell in mesh : ',jax_mesh.cells[:1,:]) # cells = global node numbering"
   ]
  },
  {
   "attachments": {},
   "cell_type": "markdown",
   "metadata": {},
   "source": [
    "### 2.2 Finite element\n",
    "- Uses `basis.py`\n",
    "- All computations within the reference cell (on their faces too!)\n",
    "    - Gives us quadrature weights\n",
    "    - Shape function values\n",
    "    - Shape function gradients etc.\n"
   ]
  },
  {
   "cell_type": "code",
   "execution_count": 21,
   "metadata": {},
   "outputs": [
    {
     "name": "stdout",
     "output_type": "stream",
     "text": [
      "ele_type = QUAD8, quad_points.shape = (4, 2)\n",
      "(4, 8)\n",
      "(4,)\n"
     ]
    }
   ],
   "source": [
    "from jax_am.fem import basis\n",
    "values, gradients, quadrature_weights = basis.get_shape_vals_and_grads('QUAD8')\n",
    "print(values.shape) # (no of quadrature points, Nodes per cell)\n",
    "print(quadrature_weights.shape)\n",
    "# At each quadrature point, there is a contribution from each shape function. One node has one shape function\n",
    "# So, we have n_quads * n_nodes entries\n",
    "# When we consider the gradients, there will be dimensions also (grad_x, grad_y, grad_z if 3D)"
   ]
  },
  {
   "attachments": {},
   "cell_type": "markdown",
   "metadata": {},
   "source": [
    "### Step 2.3 : Mapping\n",
    "- `core.py`\n",
    "    - `get_shape_grads()`\n",
    "    - `get_face_shape_grads()`\n",
    "    - `get_physical_quad_points()`\n",
    "    - `get_physical_surface_quad_points()`"
   ]
  },
  {
   "cell_type": "code",
   "execution_count": 1,
   "metadata": {},
   "outputs": [],
   "source": [
    "def fixed_location(point): # For dirichlet B.C\n",
    "    return np.isclose(point[0], 0., atol=1e-5)\n",
    "    \n",
    "def load_location(point):\n",
    "    return np.logical_and(np.isclose(point[0], Lx, atol=1e-5), np.isclose(point[2], 0., atol=0.1*Lz+1e-5))\n",
    "\n",
    "def dirichlet_val(point):\n",
    "    return 0.\n",
    "\n",
    "def neumann_val(point):\n",
    "    return np.array([0., 0., -1e6])\n",
    "\n",
    "dirichlet_bc_info = [[fixed_location]*3, [0, 1, 2], [dirichlet_val]*3]\n",
    "neumann_bc_info = [[load_location], [neumann_val]]"
   ]
  },
  {
   "cell_type": "code",
   "execution_count": 8,
   "metadata": {},
   "outputs": [
    {
     "name": "stdout",
     "output_type": "stream",
     "text": [
      "Info    : Meshing 1D...\n",
      "Info    : [  0%] Meshing curve 1 (Extruded)\n",
      "Info    : [ 30%] Meshing curve 2 (Extruded)\n",
      "Info    : [ 50%] Meshing curve 3 (Extruded)\n",
      "Info    : [ 80%] Meshing curve 4 (Extruded)\n",
      "Info    : Done meshing 1D (Wall 8.3031e-05s, CPU 7.8e-05s)\n",
      "Info    : Meshing 2D...\n",
      "Info    : Meshing surface 5 (Extruded)\n",
      "Info    : Done meshing 2D (Wall 8.1198e-05s, CPU 0.00022s)\n",
      "Info    : 9 nodes 16 elements\n",
      "Info    : Writing '../data/msh/2d.msh'...\n",
      "Info    : Done writing '../data/msh/2d.msh'\n",
      "\n"
     ]
    }
   ],
   "source": [
    "from jax_am.common import rectangle_mesh\n",
    "from jax_am.fem.generate_mesh import create_2d_mesh, Mesh\n",
    "Lx, Ly = 1., 1\n",
    "Nx, Ny = 2, 2\n",
    "data_path = \"../data/\"\n",
    "meshio_mesh = create_2d_mesh(Nx, Ny, Lx, Ly, data_path)\n",
    "jax_mesh = Mesh(meshio_mesh.points, meshio_mesh.cells_dict['quad'])"
   ]
  },
  {
   "cell_type": "code",
   "execution_count": 16,
   "metadata": {},
   "outputs": [
    {
     "data": {
      "text/plain": [
       "array([[0. , 0. , 0. ],\n",
       "       [1. , 0. , 0. ],\n",
       "       [0. , 1. , 0. ],\n",
       "       [1. , 1. , 0. ],\n",
       "       [0.5, 0. , 0. ],\n",
       "       [0.5, 1. , 0. ],\n",
       "       [0. , 0.5, 0. ],\n",
       "       [1. , 0.5, 0. ],\n",
       "       [0.5, 0.5, 0. ]])"
      ]
     },
     "execution_count": 16,
     "metadata": {},
     "output_type": "execute_result"
    }
   ],
   "source": [
    "jax_mesh.points\n"
   ]
  },
  {
   "cell_type": "code",
   "execution_count": 12,
   "metadata": {},
   "outputs": [],
   "source": [
    "from jax_am.common import rectangle_mesh\n",
    "Lx, Ly = 1., 1.\n",
    "Nx, Ny = 2, 2\n",
    "mesh_without_gmsh = rectangle_mesh(Nx, Ny, Lx, Ly)\n",
    "jax_mesh_no_gmsh = Mesh(mesh_without_gmsh.points, mesh_without_gmsh.cells_dict['quad'])"
   ]
  },
  {
   "cell_type": "code",
   "execution_count": 15,
   "metadata": {},
   "outputs": [
    {
     "data": {
      "text/plain": [
       "array([[0. , 0. ],\n",
       "       [0. , 0.5],\n",
       "       [0. , 1. ],\n",
       "       [0.5, 0. ],\n",
       "       [0.5, 0.5],\n",
       "       [0.5, 1. ],\n",
       "       [1. , 0. ],\n",
       "       [1. , 0.5],\n",
       "       [1. , 1. ]])"
      ]
     },
     "execution_count": 15,
     "metadata": {},
     "output_type": "execute_result"
    }
   ],
   "source": [
    "jax_mesh_no_gmsh.points"
   ]
  },
  {
   "cell_type": "code",
   "execution_count": null,
   "metadata": {},
   "outputs": [],
   "source": []
  }
 ],
 "metadata": {
  "kernelspec": {
   "display_name": "phd_main",
   "language": "python",
   "name": "python3"
  },
  "language_info": {
   "codemirror_mode": {
    "name": "ipython",
    "version": 3
   },
   "file_extension": ".py",
   "mimetype": "text/x-python",
   "name": "python",
   "nbconvert_exporter": "python",
   "pygments_lexer": "ipython3",
   "version": "3.10.11"
  },
  "orig_nbformat": 4
 },
 "nbformat": 4,
 "nbformat_minor": 2
}
